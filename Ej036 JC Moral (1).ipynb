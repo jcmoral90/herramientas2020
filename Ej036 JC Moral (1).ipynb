{
 "cells": [
  {
   "cell_type": "markdown",
   "metadata": {},
   "source": [
    "# Ejercicios\n",
    "### Herramientas Cuantitativas en Geociencias. Prof. José Luis Palma"
   ]
  },
  {
   "cell_type": "markdown",
   "metadata": {},
   "source": [
    "## Ejercicio 1: Ordenar una secuencia\n",
    "\n",
    "Crea una función que ordena los números de una lista de menor a mayor. Esta función recibe como argumento una lista desordenada, y debe entregar una lista con los mismos números pero ordenados. No se puede ocupar una función ya construida en python. "
   ]
  },
  {
   "cell_type": "code",
   "execution_count": 1,
   "metadata": {},
   "outputs": [],
   "source": [
    "sequencia = [2,8,4,89,0,101,3,2,103,23]"
   ]
  },
  {
   "cell_type": "code",
   "execution_count": 2,
   "metadata": {},
   "outputs": [
    {
     "data": {
      "text/plain": [
       "[0, 2, 2, 3, 4, 8, 23, 89, 101, 103]"
      ]
     },
     "execution_count": 2,
     "metadata": {},
     "output_type": "execute_result"
    }
   ],
   "source": [
    "sorted ([2,8,4,89,0,101,3,2,103,23]) # Con función construida en Python"
   ]
  },
  {
   "cell_type": "code",
   "execution_count": 3,
   "metadata": {},
   "outputs": [],
   "source": [
    "# Sin función sorted\n",
    "\n",
    "def ordena1(ord):\n",
    "    n = len(ord) # n tiene el valor del largo de la secuencia en este caso 10\n",
    "    for i in range(n): # i es el indice que parte en 0 y rango es igual a 10, va a ejecutar todo lo que esté. For es un ciclo que ejecuta todo lo que esté adentro. Indice es de donde parte y el rango es hasta donde llega.\n",
    "        for j in range(i,n): #j es otro indice que comienza en 0, como está dentro del ciclo no puede tener el mismo nombre i. Puede ser cualquier letra. i es el indice anterior y el n el total. El i es el valor minimo de busqueda y n el valor máximo.\n",
    "            if ord[i]>ord[j]: #Comparación de valor i y j. 2 es = 2 ?. Si no se cumple primera condicion, no se ejecuta. Luego vuelve a j, que en 2da vuelta vale 1 y el i 0, j alcanza hasta 10. Luego que termina j, comienza i 1 y j con 0. Método de la burbuja.\n",
    "                tmp = ord[i] # con esto se trastocan los valores, ordenando. aqui i toma el valor de j yel tmp adquirio el valor de \n",
    "                ord[i] = ord[j]\n",
    "                ord[j] = tmp\n",
    "    return ord   "
   ]
  },
  {
   "cell_type": "code",
   "execution_count": 10,
   "metadata": {},
   "outputs": [
    {
     "name": "stdout",
     "output_type": "stream",
     "text": [
      "Secuencia original: [2, 8, 4, 89, 0, 101, 3, 2, 103, 23]\n",
      "Secuencia ordenada con 4 elementos: [2, 4, 8, 89]\n",
      "Secuencia ordenada final: [0, 2, 2, 3, 4, 8, 23, 89, 101, 103]\n"
     ]
    }
   ],
   "source": [
    "sequencia = [2,8,4,89,0,101,3,2,103,23]\n",
    "\n",
    "print('Secuencia original:',sequencia)\n",
    "print('Secuencia ordenada con 4 elementos:',ordena1(sequencia[0:4])) # slicing de 0:4\n",
    "print('Secuencia ordenada final:',ordena1(sequencia[:])) # slicing todos los elementos"
   ]
  },
  {
   "cell_type": "markdown",
   "metadata": {
    "slideshow": {
     "slide_type": "slide"
    }
   },
   "source": [
    "## Exercise 2: Evaluar la función de Gauss\n",
    "\n",
    "Una función de Gauss se puede expresar como sigue:\n",
    "\n",
    "$$f(x)=\\frac{1}{\\sqrt{2\\pi}s}\\exp\\left(-\\frac{1}{2} \\left(\\frac{x-m}{s}\\right)^2\\right)$$\n",
    "\n",
    "Los parámetros $m$ y $s$ son números reales, donde $s>0$. \n",
    "\n",
    "Escribe un función en Python para evaluar la función de Gauss, y prueba la evaluación con los valores $m = 0$, $s = 2$ y $x = 1$. Verifica que esos resultados son correctors utilizando otro medio. "
   ]
  },
  {
   "cell_type": "code",
   "execution_count": 13,
   "metadata": {},
   "outputs": [
    {
     "data": {
      "text/plain": [
       "0.17603266338214976"
      ]
     },
     "execution_count": 13,
     "metadata": {},
     "output_type": "execute_result"
    }
   ],
   "source": [
    "import math # Para calcular la función Gauss, importo package math y de ahí las funciones math.pow, math.exp,  math.sqrt.\n",
    "\n",
    "\n",
    "def gaussian (x, m, s):\n",
    "        return  1/(math.sqrt(2*math.pi)*s)*math.exp(-0.5*((x-m)/s)**2)\n",
    "        \n",
    "gaussian(1,0,2)"
   ]
  },
  {
   "cell_type": "code",
   "execution_count": null,
   "metadata": {},
   "outputs": [],
   "source": []
  }
 ],
 "metadata": {
  "kernelspec": {
   "display_name": "Python 3",
   "language": "python",
   "name": "python3"
  },
  "language_info": {
   "codemirror_mode": {
    "name": "ipython",
    "version": 3
   },
   "file_extension": ".py",
   "mimetype": "text/x-python",
   "name": "python",
   "nbconvert_exporter": "python",
   "pygments_lexer": "ipython3",
   "version": "3.7.6"
  }
 },
 "nbformat": 4,
 "nbformat_minor": 4
}
